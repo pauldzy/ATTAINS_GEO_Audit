{
 "cells": [
  {
   "cell_type": "code",
   "execution_count": 1,
   "metadata": {},
   "outputs": [],
   "source": [
    "!pip install --quiet arcgis"
   ]
  },
  {
   "cell_type": "code",
   "execution_count": 2,
   "metadata": {},
   "outputs": [],
   "source": [
    "from arcgis.gis import GIS;\n",
    "from arcgis.features import FeatureLayer,Table;\n",
    "import pandas as pd;\n",
    "import numpy as np;\n"
   ]
  },
  {
   "cell_type": "code",
   "execution_count": 3,
   "metadata": {},
   "outputs": [],
   "source": [
    "ag_url    = 'https://gispub.epa.gov/arcgis/rest/services/OW/ATTAINS_Assessment/MapServer';\n",
    "ag_points = FeatureLayer(ag_url + \"/0\");\n",
    "ag_lines  = FeatureLayer(ag_url + \"/1\");\n",
    "ag_areas  = FeatureLayer(ag_url + \"/2\");\n",
    "ag_cats   = FeatureLayer(ag_url + \"/3\");\n",
    "ag_attr   = Table(ag_url + \"/4\");\n"
   ]
  },
  {
   "cell_type": "code",
   "execution_count": 4,
   "metadata": {},
   "outputs": [],
   "source": [
    "base_tbl = [\n",
    "  ['AL'],['AK'],['AS'],['AZ'],['AR'],['CA'],['CO'],['CT'],['DC'],['DE'],['FL'],['GA'],['GU'],['HI'],['ID'],['IL'],\n",
    "  ['IN'],['IA'],['KS'],['KY'],['LA'],['ME'],['MD'],['MA'],['MI'],['MN'],['MP'],['MS'],['MO'],['MT'],['NE'],['NV'],\n",
    "  ['NH'],['NJ'],['NM'],['NY'],['NC'],['ND'],['OH'],['OK'],['OR'],['PA'],['PR'],['RI'],['SC'],['SD'],['TN'],['TX'],\n",
    "  ['UT'],['VI'],['VT'],['VA'],['WA'],['WV'],['WI'],['WY']\n",
    "] \n",
    "  \n",
    "df = pd.DataFrame(base_tbl,columns = ['state']);\n",
    "df = df.set_index('state')\n"
   ]
  },
  {
   "cell_type": "code",
   "execution_count": 5,
   "metadata": {},
   "outputs": [],
   "source": [
    "cnt_points = ag_points.query(\n",
    "    return_all_records = False\n",
    "   ,group_by_fields_for_statistics = 'state,reportingcycle,organizationid,submissionid'\n",
    "   ,out_statistics = [{\"statisticType\":\"count\",\"onStatisticField\":\"state,reportingcycle,organizationid,submissionid\",\"outStatisticFieldName\":\"count\"}]\n",
    "   ,order_by_fields = 'state,reportingcycle,organizationid,submissionid'\n",
    ");\n",
    "\n",
    "cnt_lines = ag_lines.query(\n",
    "    return_all_records = False\n",
    "   ,group_by_fields_for_statistics = 'state,reportingcycle,organizationid,submissionid'\n",
    "   ,out_statistics = [{\"statisticType\":\"count\",\"onStatisticField\":\"state,reportingcycle,organizationid,submissionid\",\"outStatisticFieldName\":\"count\"}]\n",
    "   ,order_by_fields = 'state,reportingcycle,organizationid,submissionid'\n",
    ");\n",
    "\n",
    "cnt_areas = ag_areas.query(\n",
    "    return_all_records = False\n",
    "   ,group_by_fields_for_statistics = 'state,reportingcycle,organizationid,submissionid'\n",
    "   ,out_statistics = [{\"statisticType\":\"count\",\"onStatisticField\":\"state,reportingcycle,organizationid,submissionid\",\"outStatisticFieldName\":\"count\"}]\n",
    "   ,order_by_fields = 'state,reportingcycle,organizationid,submissionid'\n",
    ");\n",
    "\n",
    "cnt_attr = ag_attr.query(\n",
    "    return_all_records = False\n",
    "   ,group_by_fields_for_statistics = 'state,reportingcycle,organizationid,submissionid'\n",
    "   ,out_statistics = [{\"statisticType\":\"count\",\"onStatisticField\":\"state,reportingcycle,organizationid,submissionid\",\"outStatisticFieldName\":\"count\"}]\n",
    "   ,order_by_fields = 'state,reportingcycle,organizationid,submissionid'\n",
    ");\n",
    "\n",
    "cnt_cats = ag_cats.query(\n",
    "    return_all_records = False\n",
    "   ,group_by_fields_for_statistics = 'state,reportingcycle,organizationid,submissionid'\n",
    "   ,out_statistics = [{\"statisticType\":\"count\",\"onStatisticField\":\"state,reportingcycle,organizationid,submissionid\",\"outStatisticFieldName\":\"count\"}]\n",
    "   ,order_by_fields = 'state,reportingcycle,organizationid,submissionid'\n",
    ");\n"
   ]
  },
  {
   "cell_type": "code",
   "execution_count": 6,
   "metadata": {},
   "outputs": [
    {
     "ename": "ValueError",
     "evalue": "columns overlap but no suffix specified: Index(['organizationid', 'submissionid'], dtype='object')",
     "output_type": "error",
     "traceback": [
      "\u001b[1;31m---------------------------------------------------------------------------\u001b[0m",
      "\u001b[1;31mValueError\u001b[0m                                Traceback (most recent call last)",
      "\u001b[1;32m<ipython-input-6-aa3a464d3905>\u001b[0m in \u001b[0;36m<module>\u001b[1;34m\u001b[0m\n\u001b[0;32m      7\u001b[0m df2 = df2.join(\n\u001b[0;32m      8\u001b[0m     \u001b[0mother\u001b[0m \u001b[1;33m=\u001b[0m \u001b[0mcnt_attr\u001b[0m\u001b[1;33m.\u001b[0m\u001b[0msdf\u001b[0m\u001b[1;33m.\u001b[0m\u001b[0mset_index\u001b[0m\u001b[1;33m(\u001b[0m\u001b[1;34m'state'\u001b[0m\u001b[1;33m)\u001b[0m\u001b[1;33m\u001b[0m\u001b[1;33m\u001b[0m\u001b[0m\n\u001b[1;32m----> 9\u001b[1;33m    \u001b[1;33m,\u001b[0m\u001b[0mhow\u001b[0m \u001b[1;33m=\u001b[0m \u001b[1;34m'left'\u001b[0m\u001b[1;33m\u001b[0m\u001b[1;33m\u001b[0m\u001b[0m\n\u001b[0m\u001b[0;32m     10\u001b[0m );\n\u001b[0;32m     11\u001b[0m \u001b[0mdf2\u001b[0m \u001b[1;33m=\u001b[0m \u001b[0mdf2\u001b[0m\u001b[1;33m.\u001b[0m\u001b[0mrename\u001b[0m\u001b[1;33m(\u001b[0m\u001b[0mcolumns\u001b[0m\u001b[1;33m=\u001b[0m\u001b[1;33m{\u001b[0m\u001b[1;34m\"reportingcycle\"\u001b[0m\u001b[1;33m:\u001b[0m\u001b[1;34m\"attr_cycle\"\u001b[0m\u001b[1;33m,\u001b[0m\u001b[1;34m\"count\"\u001b[0m\u001b[1;33m:\u001b[0m\u001b[1;34m\"attr_count\"\u001b[0m\u001b[1;33m}\u001b[0m\u001b[1;33m)\u001b[0m\u001b[1;33m.\u001b[0m\u001b[0mdrop\u001b[0m\u001b[1;33m(\u001b[0m\u001b[1;34m'OBJECTID'\u001b[0m\u001b[1;33m,\u001b[0m\u001b[1;36m1\u001b[0m\u001b[1;33m)\u001b[0m\u001b[1;33m;\u001b[0m\u001b[1;33m\u001b[0m\u001b[1;33m\u001b[0m\u001b[0m\n",
      "\u001b[1;32m~\\AppData\\Roaming\\Python\\Python36\\site-packages\\pandas\\core\\frame.py\u001b[0m in \u001b[0;36mjoin\u001b[1;34m(self, other, on, how, lsuffix, rsuffix, sort)\u001b[0m\n\u001b[0;32m   7244\u001b[0m         \u001b[1;31m# For SparseDataFrame's benefit\u001b[0m\u001b[1;33m\u001b[0m\u001b[1;33m\u001b[0m\u001b[1;33m\u001b[0m\u001b[0m\n\u001b[0;32m   7245\u001b[0m         return self._join_compat(\n\u001b[1;32m-> 7246\u001b[1;33m             \u001b[0mother\u001b[0m\u001b[1;33m,\u001b[0m \u001b[0mon\u001b[0m\u001b[1;33m=\u001b[0m\u001b[0mon\u001b[0m\u001b[1;33m,\u001b[0m \u001b[0mhow\u001b[0m\u001b[1;33m=\u001b[0m\u001b[0mhow\u001b[0m\u001b[1;33m,\u001b[0m \u001b[0mlsuffix\u001b[0m\u001b[1;33m=\u001b[0m\u001b[0mlsuffix\u001b[0m\u001b[1;33m,\u001b[0m \u001b[0mrsuffix\u001b[0m\u001b[1;33m=\u001b[0m\u001b[0mrsuffix\u001b[0m\u001b[1;33m,\u001b[0m \u001b[0msort\u001b[0m\u001b[1;33m=\u001b[0m\u001b[0msort\u001b[0m\u001b[1;33m\u001b[0m\u001b[1;33m\u001b[0m\u001b[0m\n\u001b[0m\u001b[0;32m   7247\u001b[0m         )\n\u001b[0;32m   7248\u001b[0m \u001b[1;33m\u001b[0m\u001b[0m\n",
      "\u001b[1;32m~\\AppData\\Roaming\\Python\\Python36\\site-packages\\pandas\\core\\frame.py\u001b[0m in \u001b[0;36m_join_compat\u001b[1;34m(self, other, on, how, lsuffix, rsuffix, sort)\u001b[0m\n\u001b[0;32m   7267\u001b[0m                 \u001b[0mright_index\u001b[0m\u001b[1;33m=\u001b[0m\u001b[1;32mTrue\u001b[0m\u001b[1;33m,\u001b[0m\u001b[1;33m\u001b[0m\u001b[1;33m\u001b[0m\u001b[0m\n\u001b[0;32m   7268\u001b[0m                 \u001b[0msuffixes\u001b[0m\u001b[1;33m=\u001b[0m\u001b[1;33m(\u001b[0m\u001b[0mlsuffix\u001b[0m\u001b[1;33m,\u001b[0m \u001b[0mrsuffix\u001b[0m\u001b[1;33m)\u001b[0m\u001b[1;33m,\u001b[0m\u001b[1;33m\u001b[0m\u001b[1;33m\u001b[0m\u001b[0m\n\u001b[1;32m-> 7269\u001b[1;33m                 \u001b[0msort\u001b[0m\u001b[1;33m=\u001b[0m\u001b[0msort\u001b[0m\u001b[1;33m,\u001b[0m\u001b[1;33m\u001b[0m\u001b[1;33m\u001b[0m\u001b[0m\n\u001b[0m\u001b[0;32m   7270\u001b[0m             )\n\u001b[0;32m   7271\u001b[0m         \u001b[1;32melse\u001b[0m\u001b[1;33m:\u001b[0m\u001b[1;33m\u001b[0m\u001b[1;33m\u001b[0m\u001b[0m\n",
      "\u001b[1;32m~\\AppData\\Roaming\\Python\\Python36\\site-packages\\pandas\\core\\reshape\\merge.py\u001b[0m in \u001b[0;36mmerge\u001b[1;34m(left, right, how, on, left_on, right_on, left_index, right_index, sort, suffixes, copy, indicator, validate)\u001b[0m\n\u001b[0;32m     81\u001b[0m         \u001b[0mvalidate\u001b[0m\u001b[1;33m=\u001b[0m\u001b[0mvalidate\u001b[0m\u001b[1;33m,\u001b[0m\u001b[1;33m\u001b[0m\u001b[1;33m\u001b[0m\u001b[0m\n\u001b[0;32m     82\u001b[0m     )\n\u001b[1;32m---> 83\u001b[1;33m     \u001b[1;32mreturn\u001b[0m \u001b[0mop\u001b[0m\u001b[1;33m.\u001b[0m\u001b[0mget_result\u001b[0m\u001b[1;33m(\u001b[0m\u001b[1;33m)\u001b[0m\u001b[1;33m\u001b[0m\u001b[1;33m\u001b[0m\u001b[0m\n\u001b[0m\u001b[0;32m     84\u001b[0m \u001b[1;33m\u001b[0m\u001b[0m\n\u001b[0;32m     85\u001b[0m \u001b[1;33m\u001b[0m\u001b[0m\n",
      "\u001b[1;32m~\\AppData\\Roaming\\Python\\Python36\\site-packages\\pandas\\core\\reshape\\merge.py\u001b[0m in \u001b[0;36mget_result\u001b[1;34m(self)\u001b[0m\n\u001b[0;32m    646\u001b[0m \u001b[1;33m\u001b[0m\u001b[0m\n\u001b[0;32m    647\u001b[0m         llabels, rlabels = _items_overlap_with_suffix(\n\u001b[1;32m--> 648\u001b[1;33m             \u001b[0mldata\u001b[0m\u001b[1;33m.\u001b[0m\u001b[0mitems\u001b[0m\u001b[1;33m,\u001b[0m \u001b[0mlsuf\u001b[0m\u001b[1;33m,\u001b[0m \u001b[0mrdata\u001b[0m\u001b[1;33m.\u001b[0m\u001b[0mitems\u001b[0m\u001b[1;33m,\u001b[0m \u001b[0mrsuf\u001b[0m\u001b[1;33m\u001b[0m\u001b[1;33m\u001b[0m\u001b[0m\n\u001b[0m\u001b[0;32m    649\u001b[0m         )\n\u001b[0;32m    650\u001b[0m \u001b[1;33m\u001b[0m\u001b[0m\n",
      "\u001b[1;32m~\\AppData\\Roaming\\Python\\Python36\\site-packages\\pandas\\core\\reshape\\merge.py\u001b[0m in \u001b[0;36m_items_overlap_with_suffix\u001b[1;34m(left, lsuffix, right, rsuffix)\u001b[0m\n\u001b[0;32m   2009\u001b[0m         raise ValueError(\n\u001b[0;32m   2010\u001b[0m             \u001b[1;34m\"columns overlap but no suffix specified: \"\u001b[0m\u001b[1;33m\u001b[0m\u001b[1;33m\u001b[0m\u001b[0m\n\u001b[1;32m-> 2011\u001b[1;33m             \u001b[1;34m\"{rename}\"\u001b[0m\u001b[1;33m.\u001b[0m\u001b[0mformat\u001b[0m\u001b[1;33m(\u001b[0m\u001b[0mrename\u001b[0m\u001b[1;33m=\u001b[0m\u001b[0mto_rename\u001b[0m\u001b[1;33m)\u001b[0m\u001b[1;33m\u001b[0m\u001b[1;33m\u001b[0m\u001b[0m\n\u001b[0m\u001b[0;32m   2012\u001b[0m         )\n\u001b[0;32m   2013\u001b[0m \u001b[1;33m\u001b[0m\u001b[0m\n",
      "\u001b[1;31mValueError\u001b[0m: columns overlap but no suffix specified: Index(['organizationid', 'submissionid'], dtype='object')"
     ]
    }
   ],
   "source": [
    "df2 = df.join(\n",
    "    other = cnt_cats.sdf.set_index('state')\n",
    "   ,how = 'left'\n",
    ");\n",
    "df2 = df2.rename(columns={\"reportingcycle\":\"cats_cycle\",\"count\":\"cats_count\"}).drop('OBJECTID',1);\n",
    "\n",
    "df2 = df2.join(\n",
    "    other = cnt_attr.sdf.set_index('state')\n",
    "   ,how = 'left'\n",
    ");\n",
    "df2 = df2.rename(columns={\"reportingcycle\":\"attr_cycle\",\"count\":\"attr_count\"}).drop('OBJECTID',1);\n",
    "\n",
    "df2 = df2.join(\n",
    "    other = cnt_points.sdf.set_index('state')\n",
    "   ,how = 'left'\n",
    ");\n",
    "df2 = df2.rename(columns={\"count\":\"point_count\"}).drop('OBJECTID',1).drop('reportingcycle',1);\n",
    "\n",
    "df2 = df2.join(\n",
    "    other = cnt_lines.sdf.set_index('state')\n",
    "   ,how = 'left'\n",
    ");\n",
    "df2 = df2.rename(columns={\"count\":\"line_count\"}).drop('OBJECTID',1).drop('reportingcycle',1);\n",
    "\n",
    "df2 = df2.join(\n",
    "    other = cnt_areas.sdf.set_index('state')\n",
    "   ,how = 'left'\n",
    ");\n",
    "df2 = df2.rename(columns={\"count\":\"area_count\"}).drop('OBJECTID',1).drop('reportingcycle',1);\n",
    "\n",
    "df2 = df2.where((pd.notnull(df2)), None);\n",
    "df2"
   ]
  },
  {
   "cell_type": "code",
   "execution_count": null,
   "metadata": {},
   "outputs": [],
   "source": [
    "df3 = df2;\n",
    "\n",
    "cnt_attr_ircategory = ag_attr.query(\n",
    "    return_all_records = False\n",
    "   ,group_by_fields_for_statistics = 'state,ircategory'\n",
    "   ,out_statistics = [{\"statisticType\":\"count\",\"onStatisticField\":\"state,reportingcycle\",\"outStatisticFieldName\":\"count\"}]\n",
    "   ,order_by_fields = 'state,ircategory'\n",
    ");\n",
    "adf = cnt_attr_ircategory.sdf.pivot(index='state',columns='ircategory',values='count')\n",
    "adf = adf.reset_index().rename(\n",
    "    columns={\n",
    "        \"state\":\"state_delete\"\n",
    "       ,np.nan:\"ir_cat_Null\"\n",
    "       ,\"1\":\"ir_cat_1\"\n",
    "       ,\"2\":\"ir_cat_2\"\n",
    "       ,\"3\":\"ir_cat_3\"\n",
    "       ,\"4A\":\"ir_cat_4A\"\n",
    "       ,\"4B\":\"ir_cat_4B\"\n",
    "       ,\"4C\":\"ir_cat_4C\"\n",
    "       ,\"5\":\"ir_cat_5\"\n",
    "       ,\"5A\":\"ir_cat_5A\"\n",
    "    }\n",
    ").set_index('state_delete');\n",
    "\n",
    "df3 = df3.join(\n",
    "    other = adf\n",
    "   ,how = 'left'\n",
    ");\n",
    "\n",
    "df3 = df3.where((pd.notnull(df3)), None);\n",
    "df3"
   ]
  },
  {
   "cell_type": "code",
   "execution_count": null,
   "metadata": {},
   "outputs": [],
   "source": [
    "\n"
   ]
  }
 ],
 "metadata": {
  "kernelspec": {
   "display_name": "Python 3",
   "language": "python",
   "name": "python3"
  },
  "language_info": {
   "codemirror_mode": {
    "name": "ipython",
    "version": 3
   },
   "file_extension": ".py",
   "mimetype": "text/x-python",
   "name": "python",
   "nbconvert_exporter": "python",
   "pygments_lexer": "ipython3",
   "version": "3.6.8"
  }
 },
 "nbformat": 4,
 "nbformat_minor": 2
}
