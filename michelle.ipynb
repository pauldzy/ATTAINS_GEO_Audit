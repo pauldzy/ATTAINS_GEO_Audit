{
 "cells": [
  {
   "cell_type": "code",
   "execution_count": 126,
   "metadata": {},
   "outputs": [],
   "source": [
    "import os;\n",
    "from arcgis.gis import GIS;\n",
    "from arcgis.features import FeatureLayer;\n",
    "import pandas as pd;\n",
    "import arcpy;\n"
   ]
  },
  {
   "cell_type": "markdown",
   "metadata": {},
   "source": [
    "##### Create the output location using arcpy\n",
    "I assume you are using your ArcGIS Pro version of Jupyter and thus have arcpy"
   ]
  },
  {
   "cell_type": "code",
   "execution_count": 131,
   "metadata": {},
   "outputs": [],
   "source": [
    "out_path = r\"./data\";\n",
    "out_fgdb = \"michelle.gdb\";\n",
    "out_fc   = \"baltimore\";\n",
    "\n",
    "if not os.path.exists(out_path):\n",
    "    os.mkdir(out_path);\n",
    "    \n",
    "if not arcpy.Exists(out_path + os.sep + out_fgdb):\n",
    "    arcpy.CreateFileGDB_management(out_path,out_fgdb);\n",
    "    "
   ]
  },
  {
   "cell_type": "markdown",
   "metadata": {},
   "source": [
    "##### Get the AGO item to export\n"
   ]
  },
  {
   "cell_type": "markdown",
   "metadata": {},
   "source": [
    "gis = GIS();\n",
    "\n",
    "data_item_id = \"48416818f88b4be2b0f4ae51c7898341\";\n",
    "data_item = gis.content.get(data_item_id);\n",
    "\n",
    "data_item\n"
   ]
  },
  {
   "cell_type": "markdown",
   "metadata": {},
   "source": [
    "##### Sniff out the feature service from the layer listing\n",
    "\n",
    "I am not sure why Baltimore is using http here, need to flip to https."
   ]
  },
  {
   "cell_type": "code",
   "execution_count": 135,
   "metadata": {},
   "outputs": [
    {
     "data": {
      "text/plain": [
       "'https://geodata.baltimorecity.gov/egis/rest/services/Environmental_Police/Collector/FeatureServer/0'"
      ]
     },
     "execution_count": 135,
     "metadata": {},
     "output_type": "execute_result"
    }
   ],
   "source": [
    "feature_layer_url = data_item.get_data()['operationalLayers'][0]['url'];\n",
    "\n",
    "feature_layer_url = feature_layer_url.replace('http://','https://');\n",
    "\n",
    "feature_layer_url\n"
   ]
  },
  {
   "cell_type": "markdown",
   "metadata": {},
   "source": [
    "##### Pull down the records into the sdf\n",
    "\n",
    "This should iterate as needed to circumvent the record limit on the service"
   ]
  },
  {
   "cell_type": "code",
   "execution_count": 136,
   "metadata": {},
   "outputs": [
    {
     "data": {
      "text/plain": [
       "60"
      ]
     },
     "execution_count": 136,
     "metadata": {},
     "output_type": "execute_result"
    }
   ],
   "source": [
    "feature_layer = FeatureLayer((feature_layer_url));\n",
    "\n",
    "sdf = feature_layer.query(as_df=True);\n",
    "\n",
    "len(sdf.index)\n"
   ]
  },
  {
   "cell_type": "markdown",
   "metadata": {},
   "source": [
    "##### Plot the records on the map\n",
    "\n",
    "And this does not work as Python API is super buggy.  If it works then they have fixed it."
   ]
  },
  {
   "cell_type": "code",
   "execution_count": 137,
   "metadata": {},
   "outputs": [
    {
     "data": {
      "application/vnd.jupyter.widget-view+json": {
       "model_id": "610f15e6b11a4129aa295b37e592ff23",
       "version_major": 2,
       "version_minor": 0
      },
      "text/plain": [
       "MapView(layout=Layout(height='400px', width='100%'))"
      ]
     },
     "metadata": {},
     "output_type": "display_data"
    },
    {
     "data": {
      "text/html": [
       "<div class=\"map-static-img-preview-3891dc15-5595-467c-a65b-b26702a30d1d\"><img src=\"\"></img></div>"
      ],
      "text/plain": [
       "<IPython.core.display.HTML object>"
      ]
     },
     "metadata": {},
     "output_type": "display_data"
    }
   ],
   "source": [
    "map0 = GIS().map(\"Baltimore\");\n",
    "\n",
    "sdf.spatial.plot(map0);\n",
    "\n",
    "map0\n"
   ]
  },
  {
   "cell_type": "markdown",
   "metadata": {},
   "source": [
    "##### Export the records to a file geodatabase feature class\n",
    "\n",
    "Hey, at least this works"
   ]
  },
  {
   "cell_type": "code",
   "execution_count": 138,
   "metadata": {},
   "outputs": [],
   "source": [
    "sdf.spatial.to_featureclass(out_path + os.sep + out_fgdb + os.sep + out_fc);\n"
   ]
  },
  {
   "cell_type": "code",
   "execution_count": null,
   "metadata": {},
   "outputs": [],
   "source": []
  }
 ],
 "metadata": {
  "kernelspec": {
   "display_name": "Python 3",
   "language": "python",
   "name": "python3"
  },
  "language_info": {
   "codemirror_mode": {
    "name": "ipython",
    "version": 3
   },
   "file_extension": ".py",
   "mimetype": "text/x-python",
   "name": "python",
   "nbconvert_exporter": "python",
   "pygments_lexer": "ipython3",
   "version": "3.6.9"
  }
 },
 "nbformat": 4,
 "nbformat_minor": 2
}
