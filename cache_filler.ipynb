{
 "cells": [
  {
   "cell_type": "code",
   "execution_count": 1,
   "metadata": {},
   "outputs": [],
   "source": [
    "!pip install --quiet arcgis"
   ]
  },
  {
   "cell_type": "code",
   "execution_count": 2,
   "metadata": {},
   "outputs": [],
   "source": [
    "from arcgis.gis import GIS;\n",
    "from arcgis.features import FeatureLayer,Table;\n",
    "import requests;"
   ]
  },
  {
   "cell_type": "code",
   "execution_count": 23,
   "metadata": {},
   "outputs": [
    {
     "data": {
      "text/plain": [
       "OBJECTID    1000\n",
       "huc12       1000\n",
       "dtype: int64"
      ]
     },
     "execution_count": 23,
     "metadata": {},
     "output_type": "execute_result"
    }
   ],
   "source": [
    "huc12_url = 'https://watersgeo.epa.gov/arcgis/rest/services/Support/HydrologicUnits/MapServer';\n",
    "huc12_lyr = FeatureLayer(huc12_url + '/6');\n",
    "\n",
    "huc12s = huc12_lyr.query(\n",
    "    where = '1=1',\n",
    "    out_fields = 'huc12',\n",
    "    return_geometry = False,\n",
    "    return_all_records = False,\n",
    "    result_record_count = 1000,\n",
    "    result_offset = 3000\n",
    ");\n",
    "\n",
    "huc12s.sdf.count()"
   ]
  },
  {
   "cell_type": "code",
   "execution_count": null,
   "metadata": {},
   "outputs": [
    {
     "name": "stdout",
     "output_type": "stream",
     "text": [
      "020403030204 2 Assessments - Hit from cloudfront\n",
      "020403030205 5 Assessments - Hit from cloudfront\n",
      "020403030206 5 Assessments - Hit from cloudfront\n",
      "020403030301 8 Assessments - Hit from cloudfront\n",
      "020403030302 9 Assessments - Hit from cloudfront\n",
      "020403030303 8 Assessments - Hit from cloudfront\n",
      "020403030304 8 Assessments - Hit from cloudfront\n",
      "020403030401 9 Assessments - Hit from cloudfront\n",
      "020403030402 8 Assessments - Hit from cloudfront\n",
      "020403030403 6 Assessments - Hit from cloudfront\n",
      "020403030501 2 Assessments - Miss from cloudfront\n",
      "020403030502 4 Assessments - Miss from cloudfront\n",
      "020403030503 No Assessments\n",
      "020403030504 No Assessments\n",
      "020403030601 1 Assessments - Miss from cloudfront\n",
      "020403030602 No Assessments\n",
      "020403030603 1 Assessments - Miss from cloudfront\n",
      "020403030604 No Assessments\n",
      "020403030605 No Assessments\n",
      "020403040101 No Assessments\n",
      "020403040102 No Assessments\n",
      "020403040103 No Assessments\n",
      "020403040104 No Assessments\n",
      "020403040201 No Assessments\n",
      "020403040202 No Assessments\n",
      "020403040203 No Assessments\n",
      "020403040301 No Assessments\n",
      "020403040302 No Assessments\n",
      "020403040303 No Assessments\n",
      "020403040304 No Assessments\n",
      "020403040401 No Assessments\n",
      "020403040402 No Assessments\n"
     ]
    }
   ],
   "source": [
    "attains_url = 'https://attains.epa.gov/attains-public/api/huc12summary';\n",
    "agol_url    = 'https://services1.arcgis.com/BN5Mj6q47j71sqyJ/arcgis/rest/services/ATTAINS_Assessments/FeatureServer/0/query';\n",
    "\n",
    "for index, row in huc12s.sdf.iterrows():\n",
    "    response = requests.get(attains_url,params={'huc': row.huc12});\n",
    "    resp_json = response.json();\n",
    "    assessments = resp_json[\"items\"][0][\"assessmentUnits\"];\n",
    "    \n",
    "    if len(assessments) > 0:\n",
    "       qry = 'assessmentunitidentifier%20in%20(';\n",
    "       for item in assessments:\n",
    "            qry = qry + '%27' + item[\"assessmentUnitId\"] + '%27%2C%20'\n",
    "            \n",
    "       qry = qry.rstrip('%2C%20') + \")\"\n",
    "    \n",
    "       bam_url = agol_url + '?f=pbf&outFields=*&spatialRel=esriSpatialRelIntersects&where=' + qry;\n",
    "       response1 = requests.get(bam_url + '&ondev=1');\n",
    "       \n",
    "       if response1.status_code != 200:\n",
    "           raise RuntimeError(response1.request.url);\n",
    "    \n",
    "       print(row.huc12 + \" \" + str(len(assessments)) + \" Assessments - \" + response1.headers[\"x-cache\"]);\n",
    "       response2 = requests.get(bam_url + '&onstg=1');\n",
    "       response3 = requests.get(bam_url);\n",
    "        \n",
    "    else:\n",
    "       print(row.huc12 + \" No Assessments\")\n",
    "    "
   ]
  },
  {
   "cell_type": "code",
   "execution_count": null,
   "metadata": {},
   "outputs": [],
   "source": []
  }
 ],
 "metadata": {
  "kernelspec": {
   "display_name": "Python 3",
   "language": "python",
   "name": "python3"
  },
  "language_info": {
   "codemirror_mode": {
    "name": "ipython",
    "version": 3
   },
   "file_extension": ".py",
   "mimetype": "text/x-python",
   "name": "python",
   "nbconvert_exporter": "python",
   "pygments_lexer": "ipython3",
   "version": "3.6.8"
  }
 },
 "nbformat": 4,
 "nbformat_minor": 2
}
