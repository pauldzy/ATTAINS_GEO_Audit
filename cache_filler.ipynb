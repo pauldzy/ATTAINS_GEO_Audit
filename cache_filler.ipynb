{
 "cells": [
  {
   "cell_type": "code",
   "execution_count": 1,
   "metadata": {},
   "outputs": [],
   "source": [
    "!pip install --quiet arcgis"
   ]
  },
  {
   "cell_type": "code",
   "execution_count": 2,
   "metadata": {},
   "outputs": [],
   "source": [
    "from arcgis.gis import GIS;\n",
    "from arcgis.features import FeatureLayer,Table;\n",
    "import requests;"
   ]
  },
  {
   "cell_type": "code",
   "execution_count": 16,
   "metadata": {},
   "outputs": [
    {
     "data": {
      "text/plain": [
       "OBJECTID    1000\n",
       "huc12       1000\n",
       "dtype: int64"
      ]
     },
     "execution_count": 16,
     "metadata": {},
     "output_type": "execute_result"
    }
   ],
   "source": [
    "huc12_url = 'https://watersgeo.epa.gov/arcgis/rest/services/Support/HydrologicUnits/MapServer';\n",
    "huc12_lyr = FeatureLayer(huc12_url + '/6');\n",
    "\n",
    "huc12s = huc12_lyr.query(\n",
    "    where = '1=1',\n",
    "    out_fields = 'huc12',\n",
    "    return_geometry = False,\n",
    "    return_all_records = False,\n",
    "    result_record_count = 1000,\n",
    "    result_offset = 2000\n",
    ");\n",
    "\n",
    "huc12s.sdf.count()"
   ]
  },
  {
   "cell_type": "code",
   "execution_count": 18,
   "metadata": {},
   "outputs": [
    {
     "ename": "SyntaxError",
     "evalue": "invalid syntax (<ipython-input-18-8ed580ab0f50>, line 23)",
     "output_type": "error",
     "traceback": [
      "\u001b[1;36m  File \u001b[1;32m\"<ipython-input-18-8ed580ab0f50>\"\u001b[1;36m, line \u001b[1;32m23\u001b[0m\n\u001b[1;33m    print(row.huc12 + \" \" str(len(assessments)) + \" Assessments - \" + response.headers[\"x-cache\"])\u001b[0m\n\u001b[1;37m                            ^\u001b[0m\n\u001b[1;31mSyntaxError\u001b[0m\u001b[1;31m:\u001b[0m invalid syntax\n"
     ]
    }
   ],
   "source": [
    "attains_url = 'https://attains.epa.gov/attains-public/api/huc12summary';\n",
    "agol_url    = 'https://services1.arcgis.com/BN5Mj6q47j71sqyJ/arcgis/rest/services/ATTAINS_Assessments/FeatureServer/0/query';\n",
    "\n",
    "for index, row in huc12s.sdf.iterrows():\n",
    "    response = requests.get(attains_url,params={'huc': row.huc12});\n",
    "    resp_json = response.json();\n",
    "    assessments = resp_json[\"items\"][0][\"assessmentUnits\"];\n",
    "    \n",
    "    if len(assessments) > 0:\n",
    "       qry = 'assessmentunitidentifier%20in%20(';\n",
    "       for item in assessments:\n",
    "            qry = qry + '%27' + item[\"assessmentUnitId\"] + '%27%2C%20'\n",
    "            \n",
    "       qry = qry.rstrip('%2C%20') + \")\"\n",
    "    \n",
    "       bam_url = agol_url + '?f=pbf&outFields=*&spatialRel=esriSpatialRelIntersects&where=' + qry + '&ondev=1'\n",
    "    \n",
    "       response = requests.get(bam_url);\n",
    "    \n",
    "       if response.status_code != 200:\n",
    "           raise RuntimeError(response.request.url);\n",
    "    \n",
    "       print(row.huc12 + \" \" + str(len(assessments)) + \" Assessments - \" + response.headers[\"x-cache\"])\n",
    "        \n",
    "    else:\n",
    "       print(row.huc12 + \" No Assessments\")\n",
    "    "
   ]
  },
  {
   "cell_type": "code",
   "execution_count": null,
   "metadata": {},
   "outputs": [],
   "source": []
  }
 ],
 "metadata": {
  "kernelspec": {
   "display_name": "Python 3",
   "language": "python",
   "name": "python3"
  },
  "language_info": {
   "codemirror_mode": {
    "name": "ipython",
    "version": 3
   },
   "file_extension": ".py",
   "mimetype": "text/x-python",
   "name": "python",
   "nbconvert_exporter": "python",
   "pygments_lexer": "ipython3",
   "version": "3.6.8"
  }
 },
 "nbformat": 4,
 "nbformat_minor": 2
}
