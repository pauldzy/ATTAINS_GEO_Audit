{
 "cells": [
  {
   "cell_type": "code",
   "execution_count": 1,
   "metadata": {},
   "outputs": [],
   "source": [
    "import os;\n",
    "import ipywidgets as widgets;\n",
    "from IPython.display import display, FileLink\n",
    "\n",
    "if not os.path.exists('./scratch'):\n",
    "    os.mkdir('./scratch');\n"
   ]
  },
  {
   "cell_type": "markdown",
   "metadata": {},
   "source": [
    "### Upload your input file"
   ]
  },
  {
   "cell_type": "code",
   "execution_count": 2,
   "metadata": {},
   "outputs": [
    {
     "data": {
      "application/vnd.jupyter.widget-view+json": {
       "model_id": "ee0ff5095ec4437c83c272085af28010",
       "version_major": 2,
       "version_minor": 0
      },
      "text/plain": [
       "FileUpload(value={}, accept='.xlsx', description='Upload')"
      ]
     },
     "metadata": {},
     "output_type": "display_data"
    }
   ],
   "source": [
    "uploader = widgets.FileUpload(\n",
    "     accept   = '.xlsx'\n",
    "    ,multiple = False\n",
    ");\n",
    "\n",
    "display(uploader)\n"
   ]
  },
  {
   "cell_type": "code",
   "execution_count": 3,
   "metadata": {},
   "outputs": [],
   "source": [
    "if not uploader.value:\n",
    "    raise ValueError('Input Excel file is required to continue.');\n",
    "\n",
    "input_file = next(iter(uploader.value));\n",
    "input_full = r\"./scratch/\" + input_file;\n",
    "\n",
    "if os.path.exists(input_full):\n",
    "    os.remove(input_full);\n",
    "    \n",
    "with open(input_full,\"wb\") as fp:\n",
    "    fp.write(uploader.value[input_file]['content']);\n",
    "    "
   ]
  },
  {
   "cell_type": "markdown",
   "metadata": {},
   "source": [
    "### Do you what you gotta do here"
   ]
  },
  {
   "cell_type": "code",
   "execution_count": 4,
   "metadata": {},
   "outputs": [],
   "source": [
    "output_file = input_file.replace('.xlsx','.csv');\n",
    "output_full = r\"scratch/\" + output_file;\n",
    "\n",
    "if os.path.exists(output_full):\n",
    "    os.remove(output_full);\n",
    "\n",
    "with open(output_full,\"w\") as fp:\n",
    "    fp.write(\"foo,foo,foo\\n\");\n"
   ]
  },
  {
   "cell_type": "markdown",
   "metadata": {},
   "source": [
    "### Download your new CSV results"
   ]
  },
  {
   "cell_type": "code",
   "execution_count": 5,
   "metadata": {},
   "outputs": [
    {
     "data": {
      "text/html": [
       "Click here to download: <a href='scratch/record_layout.csv' target='_blank'>scratch/record_layout.csv</a><br>"
      ],
      "text/plain": [
       "C:\\Users\\PDziemiela\\Documents\\GitHub\\Notebooks\\scratch\\record_layout.csv"
      ]
     },
     "metadata": {},
     "output_type": "display_data"
    }
   ],
   "source": [
    "download = FileLink(output_full,result_html_prefix=\"Click here to download: \")\n",
    "display(download)\n"
   ]
  },
  {
   "cell_type": "code",
   "execution_count": null,
   "metadata": {},
   "outputs": [],
   "source": []
  }
 ],
 "metadata": {
  "kernelspec": {
   "display_name": "Python 3",
   "language": "python",
   "name": "python3"
  },
  "language_info": {
   "codemirror_mode": {
    "name": "ipython",
    "version": 3
   },
   "file_extension": ".py",
   "mimetype": "text/x-python",
   "name": "python",
   "nbconvert_exporter": "python",
   "pygments_lexer": "ipython3",
   "version": "3.6.9"
  }
 },
 "nbformat": 4,
 "nbformat_minor": 2
}
